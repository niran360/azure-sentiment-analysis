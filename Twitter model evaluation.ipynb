{
 "cells": [
  {
   "cell_type": "code",
   "execution_count": 2,
   "metadata": {},
   "outputs": [],
   "source": [
    "import pandas as pd\n",
    "import numpy as np\n",
    "import datasist as ds\n",
    "import matplotlib.pyplot as plt\n",
    "import seaborn as sns\n",
    "%matplotlib inline"
   ]
  },
  {
   "cell_type": "code",
   "execution_count": 3,
   "metadata": {},
   "outputs": [],
   "source": [
    "df = pd.read_excel('ttwitter_model.xlsx')\n",
    "pd.options.display.float_format = '{:.2f}%'.format"
   ]
  },
  {
   "cell_type": "code",
   "execution_count": 4,
   "metadata": {
    "scrolled": false
   },
   "outputs": [
    {
     "data": {
      "text/html": [
       "<div>\n",
       "<style scoped>\n",
       "    .dataframe tbody tr th:only-of-type {\n",
       "        vertical-align: middle;\n",
       "    }\n",
       "\n",
       "    .dataframe tbody tr th {\n",
       "        vertical-align: top;\n",
       "    }\n",
       "\n",
       "    .dataframe thead th {\n",
       "        text-align: right;\n",
       "    }\n",
       "</style>\n",
       "<table border=\"1\" class=\"dataframe\">\n",
       "  <thead>\n",
       "    <tr style=\"text-align: right;\">\n",
       "      <th></th>\n",
       "      <th>created_at</th>\n",
       "      <th>Amazon_comprehend</th>\n",
       "      <th>full_text</th>\n",
       "      <th>Custom_model</th>\n",
       "      <th>model_accuracy</th>\n",
       "      <th>Sentiment_label</th>\n",
       "    </tr>\n",
       "  </thead>\n",
       "  <tbody>\n",
       "    <tr>\n",
       "      <th>0</th>\n",
       "      <td>Wed Apr 08 04:22:36 +0000 2020</td>\n",
       "      <td>NEUTRAL</td>\n",
       "      <td>COVID-19: How it might change us in the future...</td>\n",
       "      <td>neutral</td>\n",
       "      <td>both</td>\n",
       "      <td>neutral</td>\n",
       "    </tr>\n",
       "    <tr>\n",
       "      <th>1</th>\n",
       "      <td>Wed Apr 08 04:22:36 +0000 2020</td>\n",
       "      <td>NEGATIVE</td>\n",
       "      <td>As a GP, I fear our Covid-19 lockdown will res...</td>\n",
       "      <td>neutral</td>\n",
       "      <td>comprehend</td>\n",
       "      <td>negative</td>\n",
       "    </tr>\n",
       "    <tr>\n",
       "      <th>2</th>\n",
       "      <td>Wed Apr 08 04:22:36 +0000 2020</td>\n",
       "      <td>NEUTRAL</td>\n",
       "      <td>Coronavirus lockdown complicates Philippines's...</td>\n",
       "      <td>neutral</td>\n",
       "      <td>none</td>\n",
       "      <td>negative</td>\n",
       "    </tr>\n",
       "    <tr>\n",
       "      <th>3</th>\n",
       "      <td>Wed Apr 08 04:22:36 +0000 2020</td>\n",
       "      <td>NEGATIVE</td>\n",
       "      <td>So in less then a week once COVID-19 deaths in...</td>\n",
       "      <td>neutral</td>\n",
       "      <td>comprehend</td>\n",
       "      <td>negative</td>\n",
       "    </tr>\n",
       "    <tr>\n",
       "      <th>4</th>\n",
       "      <td>Wed Apr 08 04:22:35 +0000 2020</td>\n",
       "      <td>NEUTRAL</td>\n",
       "      <td>Hmmm, something is off here... https://t.co/qH...</td>\n",
       "      <td>neutral</td>\n",
       "      <td>both</td>\n",
       "      <td>neutral</td>\n",
       "    </tr>\n",
       "  </tbody>\n",
       "</table>\n",
       "</div>"
      ],
      "text/plain": [
       "                     created_at   Amazon_comprehend  \\\n",
       "0  Wed Apr 08 04:22:36 +0000 2020           NEUTRAL   \n",
       "1  Wed Apr 08 04:22:36 +0000 2020          NEGATIVE   \n",
       "2  Wed Apr 08 04:22:36 +0000 2020           NEUTRAL   \n",
       "3  Wed Apr 08 04:22:36 +0000 2020          NEGATIVE   \n",
       "4  Wed Apr 08 04:22:35 +0000 2020           NEUTRAL   \n",
       "\n",
       "                                           full_text Custom_model  \\\n",
       "0  COVID-19: How it might change us in the future...      neutral   \n",
       "1  As a GP, I fear our Covid-19 lockdown will res...      neutral   \n",
       "2  Coronavirus lockdown complicates Philippines's...      neutral   \n",
       "3  So in less then a week once COVID-19 deaths in...      neutral   \n",
       "4  Hmmm, something is off here... https://t.co/qH...      neutral   \n",
       "\n",
       "  model_accuracy Sentiment_label  \n",
       "0           both         neutral  \n",
       "1     comprehend        negative  \n",
       "2           none        negative  \n",
       "3     comprehend        negative  \n",
       "4           both         neutral  "
      ]
     },
     "execution_count": 4,
     "metadata": {},
     "output_type": "execute_result"
    }
   ],
   "source": [
    "df.head()"
   ]
  },
  {
   "cell_type": "code",
   "execution_count": 5,
   "metadata": {},
   "outputs": [
    {
     "data": {
      "text/plain": [
       "(1455, 6)"
      ]
     },
     "execution_count": 5,
     "metadata": {},
     "output_type": "execute_result"
    }
   ],
   "source": [
    "df.shape"
   ]
  },
  {
   "cell_type": "code",
   "execution_count": 6,
   "metadata": {},
   "outputs": [
    {
     "data": {
      "text/plain": [
       "created_at           0\n",
       "Amazon_comprehend    0\n",
       "full_text            0\n",
       "Custom_model         0\n",
       "model_accuracy       0\n",
       "Sentiment_label      0\n",
       "dtype: int64"
      ]
     },
     "execution_count": 6,
     "metadata": {},
     "output_type": "execute_result"
    }
   ],
   "source": [
    "df.isnull().sum()"
   ]
  },
  {
   "cell_type": "code",
   "execution_count": 7,
   "metadata": {},
   "outputs": [
    {
     "data": {
      "text/plain": [
       "array(['both', 'comprehend', 'none', 'custom model'], dtype=object)"
      ]
     },
     "execution_count": 7,
     "metadata": {},
     "output_type": "execute_result"
    }
   ],
   "source": [
    "df['model_accuracy'].unique()"
   ]
  },
  {
   "cell_type": "code",
   "execution_count": 8,
   "metadata": {},
   "outputs": [
    {
     "data": {
      "text/plain": [
       "array(['neutral', 'negative', 'positive'], dtype=object)"
      ]
     },
     "execution_count": 8,
     "metadata": {},
     "output_type": "execute_result"
    }
   ],
   "source": [
    "df['Sentiment_label'].unique()"
   ]
  },
  {
   "cell_type": "code",
   "execution_count": 9,
   "metadata": {},
   "outputs": [
    {
     "data": {
      "text/html": [
       "<div>\n",
       "<style scoped>\n",
       "    .dataframe tbody tr th:only-of-type {\n",
       "        vertical-align: middle;\n",
       "    }\n",
       "\n",
       "    .dataframe tbody tr th {\n",
       "        vertical-align: top;\n",
       "    }\n",
       "\n",
       "    .dataframe thead th {\n",
       "        text-align: right;\n",
       "    }\n",
       "</style>\n",
       "<table border=\"1\" class=\"dataframe\">\n",
       "  <thead>\n",
       "    <tr style=\"text-align: right;\">\n",
       "      <th></th>\n",
       "      <th>created_at</th>\n",
       "      <th>Amazon_comprehend</th>\n",
       "      <th>full_text</th>\n",
       "      <th>Custom_model</th>\n",
       "      <th>model_accuracy</th>\n",
       "      <th>Sentiment_label</th>\n",
       "    </tr>\n",
       "  </thead>\n",
       "  <tbody>\n",
       "    <tr>\n",
       "      <th>0</th>\n",
       "      <td>Wed Apr 08 04:22:36 +0000 2020</td>\n",
       "      <td>neutral</td>\n",
       "      <td>COVID-19: How it might change us in the future...</td>\n",
       "      <td>neutral</td>\n",
       "      <td>both</td>\n",
       "      <td>neutral</td>\n",
       "    </tr>\n",
       "    <tr>\n",
       "      <th>1</th>\n",
       "      <td>Wed Apr 08 04:22:36 +0000 2020</td>\n",
       "      <td>negative</td>\n",
       "      <td>As a GP, I fear our Covid-19 lockdown will res...</td>\n",
       "      <td>neutral</td>\n",
       "      <td>comprehend</td>\n",
       "      <td>negative</td>\n",
       "    </tr>\n",
       "    <tr>\n",
       "      <th>2</th>\n",
       "      <td>Wed Apr 08 04:22:36 +0000 2020</td>\n",
       "      <td>neutral</td>\n",
       "      <td>Coronavirus lockdown complicates Philippines's...</td>\n",
       "      <td>neutral</td>\n",
       "      <td>none</td>\n",
       "      <td>negative</td>\n",
       "    </tr>\n",
       "    <tr>\n",
       "      <th>3</th>\n",
       "      <td>Wed Apr 08 04:22:36 +0000 2020</td>\n",
       "      <td>negative</td>\n",
       "      <td>So in less then a week once COVID-19 deaths in...</td>\n",
       "      <td>neutral</td>\n",
       "      <td>comprehend</td>\n",
       "      <td>negative</td>\n",
       "    </tr>\n",
       "    <tr>\n",
       "      <th>4</th>\n",
       "      <td>Wed Apr 08 04:22:35 +0000 2020</td>\n",
       "      <td>neutral</td>\n",
       "      <td>Hmmm, something is off here... https://t.co/qH...</td>\n",
       "      <td>neutral</td>\n",
       "      <td>both</td>\n",
       "      <td>neutral</td>\n",
       "    </tr>\n",
       "    <tr>\n",
       "      <th>...</th>\n",
       "      <td>...</td>\n",
       "      <td>...</td>\n",
       "      <td>...</td>\n",
       "      <td>...</td>\n",
       "      <td>...</td>\n",
       "      <td>...</td>\n",
       "    </tr>\n",
       "    <tr>\n",
       "      <th>1450</th>\n",
       "      <td>Sat Apr 11 18:20:22 +0000 2020</td>\n",
       "      <td>neutral</td>\n",
       "      <td>Whitmer's not the only one who is power-mad. ‘...</td>\n",
       "      <td>negative</td>\n",
       "      <td>comprehend</td>\n",
       "      <td>neutral</td>\n",
       "    </tr>\n",
       "    <tr>\n",
       "      <th>1451</th>\n",
       "      <td>Sat Apr 11 18:20:22 +0000 2020</td>\n",
       "      <td>neutral</td>\n",
       "      <td>Thinking of everyone dealing with Covid-19 in ...</td>\n",
       "      <td>neutral</td>\n",
       "      <td>both</td>\n",
       "      <td>neutral</td>\n",
       "    </tr>\n",
       "    <tr>\n",
       "      <th>1452</th>\n",
       "      <td>Sat Apr 11 18:20:21 +0000 2020</td>\n",
       "      <td>neutral</td>\n",
       "      <td>@paulisci You could have bought Johnny Walker ...</td>\n",
       "      <td>neutral</td>\n",
       "      <td>both</td>\n",
       "      <td>neutral</td>\n",
       "    </tr>\n",
       "    <tr>\n",
       "      <th>1453</th>\n",
       "      <td>Sat Apr 11 18:20:21 +0000 2020</td>\n",
       "      <td>positive</td>\n",
       "      <td>Leviathan Wakes is oddly VERY applicable to th...</td>\n",
       "      <td>neutral</td>\n",
       "      <td>custom model</td>\n",
       "      <td>neutral</td>\n",
       "    </tr>\n",
       "    <tr>\n",
       "      <th>1454</th>\n",
       "      <td>Sat Apr 11 18:20:20 +0000 2020</td>\n",
       "      <td>neutral</td>\n",
       "      <td>@CharlieDonahue4 @Sparknottle @MagaRosco @iamd...</td>\n",
       "      <td>neutral</td>\n",
       "      <td>both</td>\n",
       "      <td>neutral</td>\n",
       "    </tr>\n",
       "  </tbody>\n",
       "</table>\n",
       "<p>1455 rows × 6 columns</p>\n",
       "</div>"
      ],
      "text/plain": [
       "                        created_at   Amazon_comprehend  \\\n",
       "0     Wed Apr 08 04:22:36 +0000 2020           neutral   \n",
       "1     Wed Apr 08 04:22:36 +0000 2020          negative   \n",
       "2     Wed Apr 08 04:22:36 +0000 2020           neutral   \n",
       "3     Wed Apr 08 04:22:36 +0000 2020          negative   \n",
       "4     Wed Apr 08 04:22:35 +0000 2020           neutral   \n",
       "...                              ...               ...   \n",
       "1450  Sat Apr 11 18:20:22 +0000 2020           neutral   \n",
       "1451  Sat Apr 11 18:20:22 +0000 2020           neutral   \n",
       "1452  Sat Apr 11 18:20:21 +0000 2020           neutral   \n",
       "1453  Sat Apr 11 18:20:21 +0000 2020          positive   \n",
       "1454  Sat Apr 11 18:20:20 +0000 2020           neutral   \n",
       "\n",
       "                                              full_text Custom_model  \\\n",
       "0     COVID-19: How it might change us in the future...      neutral   \n",
       "1     As a GP, I fear our Covid-19 lockdown will res...      neutral   \n",
       "2     Coronavirus lockdown complicates Philippines's...      neutral   \n",
       "3     So in less then a week once COVID-19 deaths in...      neutral   \n",
       "4     Hmmm, something is off here... https://t.co/qH...      neutral   \n",
       "...                                                 ...          ...   \n",
       "1450  Whitmer's not the only one who is power-mad. ‘...     negative   \n",
       "1451  Thinking of everyone dealing with Covid-19 in ...      neutral   \n",
       "1452  @paulisci You could have bought Johnny Walker ...      neutral   \n",
       "1453  Leviathan Wakes is oddly VERY applicable to th...      neutral   \n",
       "1454  @CharlieDonahue4 @Sparknottle @MagaRosco @iamd...      neutral   \n",
       "\n",
       "     model_accuracy Sentiment_label  \n",
       "0              both         neutral  \n",
       "1        comprehend        negative  \n",
       "2              none        negative  \n",
       "3        comprehend        negative  \n",
       "4              both         neutral  \n",
       "...             ...             ...  \n",
       "1450     comprehend         neutral  \n",
       "1451           both         neutral  \n",
       "1452           both         neutral  \n",
       "1453   custom model         neutral  \n",
       "1454           both         neutral  \n",
       "\n",
       "[1455 rows x 6 columns]"
      ]
     },
     "execution_count": 9,
     "metadata": {},
     "output_type": "execute_result"
    }
   ],
   "source": [
    "df['Amazon_comprehend']=df['Amazon_comprehend'].str.lower() \n",
    "df"
   ]
  },
  {
   "cell_type": "code",
   "execution_count": 10,
   "metadata": {
    "scrolled": false
   },
   "outputs": [
    {
     "name": "stdout",
     "output_type": "stream",
     "text": [
      "First five data points\n"
     ]
    },
    {
     "data": {
      "text/html": [
       "<div>\n",
       "<style scoped>\n",
       "    .dataframe tbody tr th:only-of-type {\n",
       "        vertical-align: middle;\n",
       "    }\n",
       "\n",
       "    .dataframe tbody tr th {\n",
       "        vertical-align: top;\n",
       "    }\n",
       "\n",
       "    .dataframe thead th {\n",
       "        text-align: right;\n",
       "    }\n",
       "</style>\n",
       "<table border=\"1\" class=\"dataframe\">\n",
       "  <thead>\n",
       "    <tr style=\"text-align: right;\">\n",
       "      <th></th>\n",
       "      <th>created_at</th>\n",
       "      <th>Amazon_comprehend</th>\n",
       "      <th>full_text</th>\n",
       "      <th>Custom_model</th>\n",
       "      <th>model_accuracy</th>\n",
       "      <th>Sentiment_label</th>\n",
       "    </tr>\n",
       "  </thead>\n",
       "  <tbody>\n",
       "    <tr>\n",
       "      <th>0</th>\n",
       "      <td>Wed Apr 08 04:22:36 +0000 2020</td>\n",
       "      <td>neutral</td>\n",
       "      <td>COVID-19: How it might change us in the future...</td>\n",
       "      <td>neutral</td>\n",
       "      <td>both</td>\n",
       "      <td>neutral</td>\n",
       "    </tr>\n",
       "    <tr>\n",
       "      <th>1</th>\n",
       "      <td>Wed Apr 08 04:22:36 +0000 2020</td>\n",
       "      <td>negative</td>\n",
       "      <td>As a GP, I fear our Covid-19 lockdown will res...</td>\n",
       "      <td>neutral</td>\n",
       "      <td>comprehend</td>\n",
       "      <td>negative</td>\n",
       "    </tr>\n",
       "    <tr>\n",
       "      <th>2</th>\n",
       "      <td>Wed Apr 08 04:22:36 +0000 2020</td>\n",
       "      <td>neutral</td>\n",
       "      <td>Coronavirus lockdown complicates Philippines's...</td>\n",
       "      <td>neutral</td>\n",
       "      <td>none</td>\n",
       "      <td>negative</td>\n",
       "    </tr>\n",
       "    <tr>\n",
       "      <th>3</th>\n",
       "      <td>Wed Apr 08 04:22:36 +0000 2020</td>\n",
       "      <td>negative</td>\n",
       "      <td>So in less then a week once COVID-19 deaths in...</td>\n",
       "      <td>neutral</td>\n",
       "      <td>comprehend</td>\n",
       "      <td>negative</td>\n",
       "    </tr>\n",
       "    <tr>\n",
       "      <th>4</th>\n",
       "      <td>Wed Apr 08 04:22:35 +0000 2020</td>\n",
       "      <td>neutral</td>\n",
       "      <td>Hmmm, something is off here... https://t.co/qH...</td>\n",
       "      <td>neutral</td>\n",
       "      <td>both</td>\n",
       "      <td>neutral</td>\n",
       "    </tr>\n",
       "  </tbody>\n",
       "</table>\n",
       "</div>"
      ],
      "text/plain": [
       "                     created_at   Amazon_comprehend  \\\n",
       "0  Wed Apr 08 04:22:36 +0000 2020           neutral   \n",
       "1  Wed Apr 08 04:22:36 +0000 2020          negative   \n",
       "2  Wed Apr 08 04:22:36 +0000 2020           neutral   \n",
       "3  Wed Apr 08 04:22:36 +0000 2020          negative   \n",
       "4  Wed Apr 08 04:22:35 +0000 2020           neutral   \n",
       "\n",
       "                                           full_text Custom_model  \\\n",
       "0  COVID-19: How it might change us in the future...      neutral   \n",
       "1  As a GP, I fear our Covid-19 lockdown will res...      neutral   \n",
       "2  Coronavirus lockdown complicates Philippines's...      neutral   \n",
       "3  So in less then a week once COVID-19 deaths in...      neutral   \n",
       "4  Hmmm, something is off here... https://t.co/qH...      neutral   \n",
       "\n",
       "  model_accuracy Sentiment_label  \n",
       "0           both         neutral  \n",
       "1     comprehend        negative  \n",
       "2           none        negative  \n",
       "3     comprehend        negative  \n",
       "4           both         neutral  "
      ]
     },
     "metadata": {},
     "output_type": "display_data"
    },
    {
     "name": "stdout",
     "output_type": "stream",
     "text": [
      "\n",
      "\n",
      "Random five data points\n"
     ]
    },
    {
     "data": {
      "text/html": [
       "<div>\n",
       "<style scoped>\n",
       "    .dataframe tbody tr th:only-of-type {\n",
       "        vertical-align: middle;\n",
       "    }\n",
       "\n",
       "    .dataframe tbody tr th {\n",
       "        vertical-align: top;\n",
       "    }\n",
       "\n",
       "    .dataframe thead th {\n",
       "        text-align: right;\n",
       "    }\n",
       "</style>\n",
       "<table border=\"1\" class=\"dataframe\">\n",
       "  <thead>\n",
       "    <tr style=\"text-align: right;\">\n",
       "      <th></th>\n",
       "      <th>created_at</th>\n",
       "      <th>Amazon_comprehend</th>\n",
       "      <th>full_text</th>\n",
       "      <th>Custom_model</th>\n",
       "      <th>model_accuracy</th>\n",
       "      <th>Sentiment_label</th>\n",
       "    </tr>\n",
       "  </thead>\n",
       "  <tbody>\n",
       "    <tr>\n",
       "      <th>166</th>\n",
       "      <td>Wed Apr 08 07:21:07 +0000 2020</td>\n",
       "      <td>positive</td>\n",
       "      <td>@AYCOMEDIAN More blessing bro AY 3050037982 Po...</td>\n",
       "      <td>neutral</td>\n",
       "      <td>comprehend</td>\n",
       "      <td>positive</td>\n",
       "    </tr>\n",
       "    <tr>\n",
       "      <th>836</th>\n",
       "      <td>Wed Apr 08 22:14:53 +0000 2020</td>\n",
       "      <td>positive</td>\n",
       "      <td>What you believe works for you #seeisbelieving...</td>\n",
       "      <td>neutral</td>\n",
       "      <td>custom model</td>\n",
       "      <td>neutral</td>\n",
       "    </tr>\n",
       "    <tr>\n",
       "      <th>504</th>\n",
       "      <td>Wed Apr 08 14:20:32 +0000 2020</td>\n",
       "      <td>negative</td>\n",
       "      <td>@SuzBrockmann We were sick in Jan too. I thoug...</td>\n",
       "      <td>neutral</td>\n",
       "      <td>custom model</td>\n",
       "      <td>neutral</td>\n",
       "    </tr>\n",
       "    <tr>\n",
       "      <th>1446</th>\n",
       "      <td>Sat Apr 11 18:20:23 +0000 2020</td>\n",
       "      <td>neutral</td>\n",
       "      <td>@wegouptygodwn @JackPosobiec If COVID-19 takes...</td>\n",
       "      <td>neutral</td>\n",
       "      <td>both</td>\n",
       "      <td>neutral</td>\n",
       "    </tr>\n",
       "    <tr>\n",
       "      <th>875</th>\n",
       "      <td>Wed Apr 08 22:21:38 +0000 2020</td>\n",
       "      <td>neutral</td>\n",
       "      <td>@MobilePunch We gave the demons the access to ...</td>\n",
       "      <td>negative</td>\n",
       "      <td>custom model</td>\n",
       "      <td>negative</td>\n",
       "    </tr>\n",
       "  </tbody>\n",
       "</table>\n",
       "</div>"
      ],
      "text/plain": [
       "                        created_at   Amazon_comprehend  \\\n",
       "166   Wed Apr 08 07:21:07 +0000 2020          positive   \n",
       "836   Wed Apr 08 22:14:53 +0000 2020          positive   \n",
       "504   Wed Apr 08 14:20:32 +0000 2020          negative   \n",
       "1446  Sat Apr 11 18:20:23 +0000 2020           neutral   \n",
       "875   Wed Apr 08 22:21:38 +0000 2020           neutral   \n",
       "\n",
       "                                              full_text Custom_model  \\\n",
       "166   @AYCOMEDIAN More blessing bro AY 3050037982 Po...      neutral   \n",
       "836   What you believe works for you #seeisbelieving...      neutral   \n",
       "504   @SuzBrockmann We were sick in Jan too. I thoug...      neutral   \n",
       "1446  @wegouptygodwn @JackPosobiec If COVID-19 takes...      neutral   \n",
       "875   @MobilePunch We gave the demons the access to ...     negative   \n",
       "\n",
       "     model_accuracy Sentiment_label  \n",
       "166      comprehend        positive  \n",
       "836    custom model         neutral  \n",
       "504    custom model         neutral  \n",
       "1446           both         neutral  \n",
       "875    custom model        negative  "
      ]
     },
     "metadata": {},
     "output_type": "display_data"
    },
    {
     "name": "stdout",
     "output_type": "stream",
     "text": [
      "\n",
      "\n",
      "Last five data points\n"
     ]
    },
    {
     "data": {
      "text/html": [
       "<div>\n",
       "<style scoped>\n",
       "    .dataframe tbody tr th:only-of-type {\n",
       "        vertical-align: middle;\n",
       "    }\n",
       "\n",
       "    .dataframe tbody tr th {\n",
       "        vertical-align: top;\n",
       "    }\n",
       "\n",
       "    .dataframe thead th {\n",
       "        text-align: right;\n",
       "    }\n",
       "</style>\n",
       "<table border=\"1\" class=\"dataframe\">\n",
       "  <thead>\n",
       "    <tr style=\"text-align: right;\">\n",
       "      <th></th>\n",
       "      <th>created_at</th>\n",
       "      <th>Amazon_comprehend</th>\n",
       "      <th>full_text</th>\n",
       "      <th>Custom_model</th>\n",
       "      <th>model_accuracy</th>\n",
       "      <th>Sentiment_label</th>\n",
       "    </tr>\n",
       "  </thead>\n",
       "  <tbody>\n",
       "    <tr>\n",
       "      <th>1450</th>\n",
       "      <td>Sat Apr 11 18:20:22 +0000 2020</td>\n",
       "      <td>neutral</td>\n",
       "      <td>Whitmer's not the only one who is power-mad. ‘...</td>\n",
       "      <td>negative</td>\n",
       "      <td>comprehend</td>\n",
       "      <td>neutral</td>\n",
       "    </tr>\n",
       "    <tr>\n",
       "      <th>1451</th>\n",
       "      <td>Sat Apr 11 18:20:22 +0000 2020</td>\n",
       "      <td>neutral</td>\n",
       "      <td>Thinking of everyone dealing with Covid-19 in ...</td>\n",
       "      <td>neutral</td>\n",
       "      <td>both</td>\n",
       "      <td>neutral</td>\n",
       "    </tr>\n",
       "    <tr>\n",
       "      <th>1452</th>\n",
       "      <td>Sat Apr 11 18:20:21 +0000 2020</td>\n",
       "      <td>neutral</td>\n",
       "      <td>@paulisci You could have bought Johnny Walker ...</td>\n",
       "      <td>neutral</td>\n",
       "      <td>both</td>\n",
       "      <td>neutral</td>\n",
       "    </tr>\n",
       "    <tr>\n",
       "      <th>1453</th>\n",
       "      <td>Sat Apr 11 18:20:21 +0000 2020</td>\n",
       "      <td>positive</td>\n",
       "      <td>Leviathan Wakes is oddly VERY applicable to th...</td>\n",
       "      <td>neutral</td>\n",
       "      <td>custom model</td>\n",
       "      <td>neutral</td>\n",
       "    </tr>\n",
       "    <tr>\n",
       "      <th>1454</th>\n",
       "      <td>Sat Apr 11 18:20:20 +0000 2020</td>\n",
       "      <td>neutral</td>\n",
       "      <td>@CharlieDonahue4 @Sparknottle @MagaRosco @iamd...</td>\n",
       "      <td>neutral</td>\n",
       "      <td>both</td>\n",
       "      <td>neutral</td>\n",
       "    </tr>\n",
       "  </tbody>\n",
       "</table>\n",
       "</div>"
      ],
      "text/plain": [
       "                        created_at   Amazon_comprehend  \\\n",
       "1450  Sat Apr 11 18:20:22 +0000 2020           neutral   \n",
       "1451  Sat Apr 11 18:20:22 +0000 2020           neutral   \n",
       "1452  Sat Apr 11 18:20:21 +0000 2020           neutral   \n",
       "1453  Sat Apr 11 18:20:21 +0000 2020          positive   \n",
       "1454  Sat Apr 11 18:20:20 +0000 2020           neutral   \n",
       "\n",
       "                                              full_text Custom_model  \\\n",
       "1450  Whitmer's not the only one who is power-mad. ‘...     negative   \n",
       "1451  Thinking of everyone dealing with Covid-19 in ...      neutral   \n",
       "1452  @paulisci You could have bought Johnny Walker ...      neutral   \n",
       "1453  Leviathan Wakes is oddly VERY applicable to th...      neutral   \n",
       "1454  @CharlieDonahue4 @Sparknottle @MagaRosco @iamd...      neutral   \n",
       "\n",
       "     model_accuracy Sentiment_label  \n",
       "1450     comprehend         neutral  \n",
       "1451           both         neutral  \n",
       "1452           both         neutral  \n",
       "1453   custom model         neutral  \n",
       "1454           both         neutral  "
      ]
     },
     "metadata": {},
     "output_type": "display_data"
    },
    {
     "name": "stdout",
     "output_type": "stream",
     "text": [
      "\n",
      "\n",
      "Shape of  data set: (1455, 6)\n",
      "\n",
      "\n",
      "Size of  data set: 8730\n",
      "\n",
      "\n",
      "Data Types\n",
      "Note: All Non-numerical features are identified as objects in pandas\n"
     ]
    },
    {
     "data": {
      "text/html": [
       "<div>\n",
       "<style scoped>\n",
       "    .dataframe tbody tr th:only-of-type {\n",
       "        vertical-align: middle;\n",
       "    }\n",
       "\n",
       "    .dataframe tbody tr th {\n",
       "        vertical-align: top;\n",
       "    }\n",
       "\n",
       "    .dataframe thead th {\n",
       "        text-align: right;\n",
       "    }\n",
       "</style>\n",
       "<table border=\"1\" class=\"dataframe\">\n",
       "  <thead>\n",
       "    <tr style=\"text-align: right;\">\n",
       "      <th></th>\n",
       "      <th>Data Type</th>\n",
       "    </tr>\n",
       "  </thead>\n",
       "  <tbody>\n",
       "    <tr>\n",
       "      <th>created_at</th>\n",
       "      <td>object</td>\n",
       "    </tr>\n",
       "    <tr>\n",
       "      <th>Amazon_comprehend</th>\n",
       "      <td>object</td>\n",
       "    </tr>\n",
       "    <tr>\n",
       "      <th>full_text</th>\n",
       "      <td>object</td>\n",
       "    </tr>\n",
       "    <tr>\n",
       "      <th>Custom_model</th>\n",
       "      <td>object</td>\n",
       "    </tr>\n",
       "    <tr>\n",
       "      <th>model_accuracy</th>\n",
       "      <td>object</td>\n",
       "    </tr>\n",
       "    <tr>\n",
       "      <th>Sentiment_label</th>\n",
       "      <td>object</td>\n",
       "    </tr>\n",
       "  </tbody>\n",
       "</table>\n",
       "</div>"
      ],
      "text/plain": [
       "                  Data Type\n",
       "created_at           object\n",
       "Amazon_comprehend    object\n",
       "full_text            object\n",
       "Custom_model         object\n",
       "model_accuracy       object\n",
       "Sentiment_label      object"
      ]
     },
     "metadata": {},
     "output_type": "display_data"
    },
    {
     "name": "stdout",
     "output_type": "stream",
     "text": [
      "\n",
      "\n",
      "Numerical Features in Data set\n",
      "[]\n",
      "\n",
      "\n",
      "Categorical Features in Data set\n"
     ]
    },
    {
     "data": {
      "text/plain": [
       "['created_at\\xa0\\xa0',\n",
       " 'Amazon_comprehend',\n",
       " 'full_text',\n",
       " 'Custom_model',\n",
       " 'model_accuracy',\n",
       " 'Sentiment_label']"
      ]
     },
     "metadata": {},
     "output_type": "display_data"
    },
    {
     "name": "stdout",
     "output_type": "stream",
     "text": [
      "\n",
      "\n",
      "Statistical Description of Columns\n"
     ]
    },
    {
     "data": {
      "text/html": [
       "<div>\n",
       "<style scoped>\n",
       "    .dataframe tbody tr th:only-of-type {\n",
       "        vertical-align: middle;\n",
       "    }\n",
       "\n",
       "    .dataframe tbody tr th {\n",
       "        vertical-align: top;\n",
       "    }\n",
       "\n",
       "    .dataframe thead th {\n",
       "        text-align: right;\n",
       "    }\n",
       "</style>\n",
       "<table border=\"1\" class=\"dataframe\">\n",
       "  <thead>\n",
       "    <tr style=\"text-align: right;\">\n",
       "      <th></th>\n",
       "      <th>created_at</th>\n",
       "      <th>Amazon_comprehend</th>\n",
       "      <th>full_text</th>\n",
       "      <th>Custom_model</th>\n",
       "      <th>model_accuracy</th>\n",
       "      <th>Sentiment_label</th>\n",
       "    </tr>\n",
       "  </thead>\n",
       "  <tbody>\n",
       "    <tr>\n",
       "      <th>count</th>\n",
       "      <td>1455</td>\n",
       "      <td>1455</td>\n",
       "      <td>1455</td>\n",
       "      <td>1455</td>\n",
       "      <td>1455</td>\n",
       "      <td>1455</td>\n",
       "    </tr>\n",
       "    <tr>\n",
       "      <th>unique</th>\n",
       "      <td>1202</td>\n",
       "      <td>4</td>\n",
       "      <td>1452</td>\n",
       "      <td>3</td>\n",
       "      <td>4</td>\n",
       "      <td>3</td>\n",
       "    </tr>\n",
       "    <tr>\n",
       "      <th>top</th>\n",
       "      <td>Sat Apr 11 14:22:33 +0000 2020</td>\n",
       "      <td>neutral</td>\n",
       "      <td>@officialdeezell 3031990387 POLARIS BANK PLEAS...</td>\n",
       "      <td>neutral</td>\n",
       "      <td>both</td>\n",
       "      <td>neutral</td>\n",
       "    </tr>\n",
       "    <tr>\n",
       "      <th>freq</th>\n",
       "      <td>7</td>\n",
       "      <td>1030</td>\n",
       "      <td>2</td>\n",
       "      <td>1235</td>\n",
       "      <td>981</td>\n",
       "      <td>1082</td>\n",
       "    </tr>\n",
       "  </tbody>\n",
       "</table>\n",
       "</div>"
      ],
      "text/plain": [
       "                          created_at   Amazon_comprehend  \\\n",
       "count                             1455              1455   \n",
       "unique                            1202                 4   \n",
       "top     Sat Apr 11 14:22:33 +0000 2020           neutral   \n",
       "freq                                 7              1030   \n",
       "\n",
       "                                                full_text Custom_model  \\\n",
       "count                                                1455         1455   \n",
       "unique                                               1452            3   \n",
       "top     @officialdeezell 3031990387 POLARIS BANK PLEAS...      neutral   \n",
       "freq                                                    2         1235   \n",
       "\n",
       "       model_accuracy Sentiment_label  \n",
       "count            1455            1455  \n",
       "unique              4               3  \n",
       "top              both         neutral  \n",
       "freq              981            1082  "
      ]
     },
     "metadata": {},
     "output_type": "display_data"
    },
    {
     "name": "stdout",
     "output_type": "stream",
     "text": [
      "\n",
      "\n",
      "Description of Categorical Features\n"
     ]
    },
    {
     "data": {
      "text/html": [
       "<div>\n",
       "<style scoped>\n",
       "    .dataframe tbody tr th:only-of-type {\n",
       "        vertical-align: middle;\n",
       "    }\n",
       "\n",
       "    .dataframe tbody tr th {\n",
       "        vertical-align: top;\n",
       "    }\n",
       "\n",
       "    .dataframe thead th {\n",
       "        text-align: right;\n",
       "    }\n",
       "</style>\n",
       "<table border=\"1\" class=\"dataframe\">\n",
       "  <thead>\n",
       "    <tr style=\"text-align: right;\">\n",
       "      <th></th>\n",
       "      <th>count</th>\n",
       "      <th>unique</th>\n",
       "      <th>top</th>\n",
       "      <th>freq</th>\n",
       "    </tr>\n",
       "  </thead>\n",
       "  <tbody>\n",
       "    <tr>\n",
       "      <th>created_at</th>\n",
       "      <td>1455</td>\n",
       "      <td>1202</td>\n",
       "      <td>Sat Apr 11 14:22:33 +0000 2020</td>\n",
       "      <td>7</td>\n",
       "    </tr>\n",
       "    <tr>\n",
       "      <th>Amazon_comprehend</th>\n",
       "      <td>1455</td>\n",
       "      <td>4</td>\n",
       "      <td>neutral</td>\n",
       "      <td>1030</td>\n",
       "    </tr>\n",
       "    <tr>\n",
       "      <th>full_text</th>\n",
       "      <td>1455</td>\n",
       "      <td>1452</td>\n",
       "      <td>@officialdeezell 3031990387 POLARIS BANK PLEAS...</td>\n",
       "      <td>2</td>\n",
       "    </tr>\n",
       "    <tr>\n",
       "      <th>Custom_model</th>\n",
       "      <td>1455</td>\n",
       "      <td>3</td>\n",
       "      <td>neutral</td>\n",
       "      <td>1235</td>\n",
       "    </tr>\n",
       "    <tr>\n",
       "      <th>model_accuracy</th>\n",
       "      <td>1455</td>\n",
       "      <td>4</td>\n",
       "      <td>both</td>\n",
       "      <td>981</td>\n",
       "    </tr>\n",
       "    <tr>\n",
       "      <th>Sentiment_label</th>\n",
       "      <td>1455</td>\n",
       "      <td>3</td>\n",
       "      <td>neutral</td>\n",
       "      <td>1082</td>\n",
       "    </tr>\n",
       "  </tbody>\n",
       "</table>\n",
       "</div>"
      ],
      "text/plain": [
       "                  count unique  \\\n",
       "created_at         1455   1202   \n",
       "Amazon_comprehend  1455      4   \n",
       "full_text          1455   1452   \n",
       "Custom_model       1455      3   \n",
       "model_accuracy     1455      4   \n",
       "Sentiment_label    1455      3   \n",
       "\n",
       "                                                                 top  freq  \n",
       "created_at                            Sat Apr 11 14:22:33 +0000 2020     7  \n",
       "Amazon_comprehend                                            neutral  1030  \n",
       "full_text          @officialdeezell 3031990387 POLARIS BANK PLEAS...     2  \n",
       "Custom_model                                                 neutral  1235  \n",
       "model_accuracy                                                  both   981  \n",
       "Sentiment_label                                              neutral  1082  "
      ]
     },
     "metadata": {},
     "output_type": "display_data"
    },
    {
     "name": "stdout",
     "output_type": "stream",
     "text": [
      "\n",
      "\n",
      "Unique class Count of Categorical features\n"
     ]
    },
    {
     "data": {
      "text/html": [
       "<style  type=\"text/css\" >\n",
       "    #T_09d403ac_cbf5_11ea_9ae7_24418ca994fcrow0_col1 {\n",
       "            width:  10em;\n",
       "             height:  80%;\n",
       "            background:  linear-gradient(90deg,#d65f5f 82.8%, transparent 82.8%);\n",
       "        }    #T_09d403ac_cbf5_11ea_9ae7_24418ca994fcrow1_col1 {\n",
       "            width:  10em;\n",
       "             height:  80%;\n",
       "            background:  linear-gradient(90deg,#d65f5f 0.3%, transparent 0.3%);\n",
       "        }    #T_09d403ac_cbf5_11ea_9ae7_24418ca994fcrow2_col1 {\n",
       "            width:  10em;\n",
       "             height:  80%;\n",
       "            background:  linear-gradient(90deg,#d65f5f 100.0%, transparent 100.0%);\n",
       "        }    #T_09d403ac_cbf5_11ea_9ae7_24418ca994fcrow3_col1 {\n",
       "            width:  10em;\n",
       "             height:  80%;\n",
       "            background:  linear-gradient(90deg,#d65f5f 0.2%, transparent 0.2%);\n",
       "        }    #T_09d403ac_cbf5_11ea_9ae7_24418ca994fcrow4_col1 {\n",
       "            width:  10em;\n",
       "             height:  80%;\n",
       "            background:  linear-gradient(90deg,#d65f5f 0.3%, transparent 0.3%);\n",
       "        }    #T_09d403ac_cbf5_11ea_9ae7_24418ca994fcrow5_col1 {\n",
       "            width:  10em;\n",
       "             height:  80%;\n",
       "            background:  linear-gradient(90deg,#d65f5f 0.2%, transparent 0.2%);\n",
       "        }</style><table id=\"T_09d403ac_cbf5_11ea_9ae7_24418ca994fc\" ><thead>    <tr>        <th class=\"blank level0\" ></th>        <th class=\"col_heading level0 col0\" >Feature</th>        <th class=\"col_heading level0 col1\" >Unique Count</th>    </tr></thead><tbody>\n",
       "                <tr>\n",
       "                        <th id=\"T_09d403ac_cbf5_11ea_9ae7_24418ca994fclevel0_row0\" class=\"row_heading level0 row0\" >0</th>\n",
       "                        <td id=\"T_09d403ac_cbf5_11ea_9ae7_24418ca994fcrow0_col0\" class=\"data row0 col0\" >created_at  </td>\n",
       "                        <td id=\"T_09d403ac_cbf5_11ea_9ae7_24418ca994fcrow0_col1\" class=\"data row0 col1\" >1202</td>\n",
       "            </tr>\n",
       "            <tr>\n",
       "                        <th id=\"T_09d403ac_cbf5_11ea_9ae7_24418ca994fclevel0_row1\" class=\"row_heading level0 row1\" >1</th>\n",
       "                        <td id=\"T_09d403ac_cbf5_11ea_9ae7_24418ca994fcrow1_col0\" class=\"data row1 col0\" >Amazon_comprehend</td>\n",
       "                        <td id=\"T_09d403ac_cbf5_11ea_9ae7_24418ca994fcrow1_col1\" class=\"data row1 col1\" >4</td>\n",
       "            </tr>\n",
       "            <tr>\n",
       "                        <th id=\"T_09d403ac_cbf5_11ea_9ae7_24418ca994fclevel0_row2\" class=\"row_heading level0 row2\" >2</th>\n",
       "                        <td id=\"T_09d403ac_cbf5_11ea_9ae7_24418ca994fcrow2_col0\" class=\"data row2 col0\" >full_text</td>\n",
       "                        <td id=\"T_09d403ac_cbf5_11ea_9ae7_24418ca994fcrow2_col1\" class=\"data row2 col1\" >1452</td>\n",
       "            </tr>\n",
       "            <tr>\n",
       "                        <th id=\"T_09d403ac_cbf5_11ea_9ae7_24418ca994fclevel0_row3\" class=\"row_heading level0 row3\" >3</th>\n",
       "                        <td id=\"T_09d403ac_cbf5_11ea_9ae7_24418ca994fcrow3_col0\" class=\"data row3 col0\" >Custom_model</td>\n",
       "                        <td id=\"T_09d403ac_cbf5_11ea_9ae7_24418ca994fcrow3_col1\" class=\"data row3 col1\" >3</td>\n",
       "            </tr>\n",
       "            <tr>\n",
       "                        <th id=\"T_09d403ac_cbf5_11ea_9ae7_24418ca994fclevel0_row4\" class=\"row_heading level0 row4\" >4</th>\n",
       "                        <td id=\"T_09d403ac_cbf5_11ea_9ae7_24418ca994fcrow4_col0\" class=\"data row4 col0\" >model_accuracy</td>\n",
       "                        <td id=\"T_09d403ac_cbf5_11ea_9ae7_24418ca994fcrow4_col1\" class=\"data row4 col1\" >4</td>\n",
       "            </tr>\n",
       "            <tr>\n",
       "                        <th id=\"T_09d403ac_cbf5_11ea_9ae7_24418ca994fclevel0_row5\" class=\"row_heading level0 row5\" >5</th>\n",
       "                        <td id=\"T_09d403ac_cbf5_11ea_9ae7_24418ca994fcrow5_col0\" class=\"data row5 col0\" >Sentiment_label</td>\n",
       "                        <td id=\"T_09d403ac_cbf5_11ea_9ae7_24418ca994fcrow5_col1\" class=\"data row5 col1\" >3</td>\n",
       "            </tr>\n",
       "    </tbody></table>"
      ],
      "text/plain": [
       "<pandas.io.formats.style.Styler at 0x1ff4b3d5208>"
      ]
     },
     "metadata": {},
     "output_type": "display_data"
    },
    {
     "name": "stdout",
     "output_type": "stream",
     "text": [
      "\n",
      "\n",
      "Missing Values in Data\n"
     ]
    },
    {
     "data": {
      "text/html": [
       "<div>\n",
       "<style scoped>\n",
       "    .dataframe tbody tr th:only-of-type {\n",
       "        vertical-align: middle;\n",
       "    }\n",
       "\n",
       "    .dataframe tbody tr th {\n",
       "        vertical-align: top;\n",
       "    }\n",
       "\n",
       "    .dataframe thead th {\n",
       "        text-align: right;\n",
       "    }\n",
       "</style>\n",
       "<table border=\"1\" class=\"dataframe\">\n",
       "  <thead>\n",
       "    <tr style=\"text-align: right;\">\n",
       "      <th></th>\n",
       "      <th>features</th>\n",
       "      <th>missing_counts</th>\n",
       "      <th>missing_percent</th>\n",
       "    </tr>\n",
       "  </thead>\n",
       "  <tbody>\n",
       "    <tr>\n",
       "      <th>0</th>\n",
       "      <td>created_at</td>\n",
       "      <td>0</td>\n",
       "      <td>0.00%</td>\n",
       "    </tr>\n",
       "    <tr>\n",
       "      <th>1</th>\n",
       "      <td>Amazon_comprehend</td>\n",
       "      <td>0</td>\n",
       "      <td>0.00%</td>\n",
       "    </tr>\n",
       "    <tr>\n",
       "      <th>2</th>\n",
       "      <td>full_text</td>\n",
       "      <td>0</td>\n",
       "      <td>0.00%</td>\n",
       "    </tr>\n",
       "    <tr>\n",
       "      <th>3</th>\n",
       "      <td>Custom_model</td>\n",
       "      <td>0</td>\n",
       "      <td>0.00%</td>\n",
       "    </tr>\n",
       "    <tr>\n",
       "      <th>4</th>\n",
       "      <td>model_accuracy</td>\n",
       "      <td>0</td>\n",
       "      <td>0.00%</td>\n",
       "    </tr>\n",
       "    <tr>\n",
       "      <th>5</th>\n",
       "      <td>Sentiment_label</td>\n",
       "      <td>0</td>\n",
       "      <td>0.00%</td>\n",
       "    </tr>\n",
       "  </tbody>\n",
       "</table>\n",
       "</div>"
      ],
      "text/plain": [
       "            features  missing_counts  missing_percent\n",
       "0       created_at                 0            0.00%\n",
       "1  Amazon_comprehend               0            0.00%\n",
       "2          full_text               0            0.00%\n",
       "3       Custom_model               0            0.00%\n",
       "4     model_accuracy               0            0.00%\n",
       "5    Sentiment_label               0            0.00%"
      ]
     },
     "metadata": {},
     "output_type": "display_data"
    }
   ],
   "source": [
    "ds.structdata.describe(df)"
   ]
  },
  {
   "cell_type": "code",
   "execution_count": 11,
   "metadata": {},
   "outputs": [],
   "source": [
    "Accuracy_count=df['model_accuracy'].value_counts()"
   ]
  },
  {
   "cell_type": "code",
   "execution_count": 12,
   "metadata": {},
   "outputs": [
    {
     "data": {
      "image/png": "[encoded data removed]",
      "text/plain": [
       "<Figure size 432x288 with 1 Axes>"
      ]
     },
     "metadata": {
      "needs_background": "light"
     },
     "output_type": "display_data"
    }
   ],
   "source": [
    "sns.countplot(df['model_accuracy'])\n",
    "plt.xlabel(\"model_accuracy\")\n",
    "plt.ylabel(\"Frequency Distribution\")\n",
    "plt.show()"
   ]
  },
  {
   "cell_type": "code",
   "execution_count": 11,
   "metadata": {},
   "outputs": [],
   "source": [
    "total_sentiment_count=df['model_accuracy'].count()"
   ]
  },
  {
   "cell_type": "code",
   "execution_count": 12,
   "metadata": {},
   "outputs": [
    {
     "data": {
      "text/plain": [
       "both           67.42%\n",
       "comprehend     15.46%\n",
       "custom model   10.65%\n",
       "none            6.46%\n",
       "Name: model_accuracy, dtype: float64"
      ]
     },
     "execution_count": 12,
     "metadata": {},
     "output_type": "execute_result"
    }
   ],
   "source": [
    "Percentage_Accuracy=(Accuracy_count/total_sentiment_count)*100\n",
    "Percentage_Accuracy"
   ]
  },
  {
   "cell_type": "code",
   "execution_count": 13,
   "metadata": {},
   "outputs": [
    {
     "data": {
      "text/plain": [
       "neutral     1082\n",
       "negative     219\n",
       "positive     154\n",
       "Name: Sentiment_label, dtype: int64"
      ]
     },
     "execution_count": 13,
     "metadata": {},
     "output_type": "execute_result"
    }
   ],
   "source": [
    "df['Sentiment_label'].value_counts()"
   ]
  },
  {
   "cell_type": "code",
   "execution_count": 14,
   "metadata": {},
   "outputs": [
    {
     "data": {
      "text/plain": [
       "NEUTRAL     1030\n",
       "POSITIVE     222\n",
       "NEGATIVE     200\n",
       "MIXED          3\n",
       "Name: Amazon_comprehend, dtype: int64"
      ]
     },
     "execution_count": 14,
     "metadata": {},
     "output_type": "execute_result"
    }
   ],
   "source": [
    "df['Amazon_comprehend'].value_counts()"
   ]
  },
  {
   "cell_type": "code",
   "execution_count": 15,
   "metadata": {},
   "outputs": [
    {
     "data": {
      "text/plain": [
       "neutral     1235\n",
       "negative     117\n",
       "positive     103\n",
       "Name: Custom_model, dtype: int64"
      ]
     },
     "execution_count": 15,
     "metadata": {},
     "output_type": "execute_result"
    }
   ],
   "source": [
    "df['Custom_model'].value_counts()"
   ]
  },
  {
   "cell_type": "code",
   "execution_count": 16,
   "metadata": {},
   "outputs": [
    {
     "data": {
      "text/plain": [
       "(1000, 6)"
      ]
     },
     "execution_count": 16,
     "metadata": {},
     "output_type": "execute_result"
    }
   ],
   "source": [
    "df3=df[:1000]\n",
    "df3.shape"
   ]
  },
  {
   "cell_type": "code",
   "execution_count": 17,
   "metadata": {},
   "outputs": [],
   "source": [
    "df3.index +=1"
   ]
  },
  {
   "cell_type": "code",
   "execution_count": 18,
   "metadata": {},
   "outputs": [],
   "source": [
    "df3.index = df3.index.rename('id')"
   ]
  },
  {
   "cell_type": "code",
   "execution_count": 20,
   "metadata": {},
   "outputs": [],
   "source": [
    "df3 = df3.astype(str)"
   ]
  },
  {
   "cell_type": "code",
   "execution_count": 23,
   "metadata": {},
   "outputs": [
    {
     "data": {
      "text/plain": [
       "id\n",
       "1        NEUTRAL\n",
       "2       NEGATIVE\n",
       "3        NEUTRAL\n",
       "4       NEGATIVE\n",
       "5        NEUTRAL\n",
       "          ...   \n",
       "996     NEGATIVE\n",
       "997      NEUTRAL\n",
       "998      NEUTRAL\n",
       "999      NEUTRAL\n",
       "1000    POSITIVE\n",
       "Name: Amazon_comprehend, Length: 1000, dtype: object"
      ]
     },
     "execution_count": 23,
     "metadata": {},
     "output_type": "execute_result"
    }
   ],
   "source": [
    "df3['Amazon_comprehend'].astype(str)"
   ]
  },
  {
   "cell_type": "code",
   "execution_count": 26,
   "metadata": {},
   "outputs": [
    {
     "data": {
      "text/plain": [
       "dtype('O')"
      ]
     },
     "execution_count": 26,
     "metadata": {},
     "output_type": "execute_result"
    }
   ],
   "source": [
    "df3['Amazon_comprehend'].dtypes"
   ]
  },
  {
   "cell_type": "code",
   "execution_count": 32,
   "metadata": {},
   "outputs": [
    {
     "data": {
      "text/html": [
       "<div>\n",
       "<style scoped>\n",
       "    .dataframe tbody tr th:only-of-type {\n",
       "        vertical-align: middle;\n",
       "    }\n",
       "\n",
       "    .dataframe tbody tr th {\n",
       "        vertical-align: top;\n",
       "    }\n",
       "\n",
       "    .dataframe thead th {\n",
       "        text-align: right;\n",
       "    }\n",
       "</style>\n",
       "<table border=\"1\" class=\"dataframe\">\n",
       "  <thead>\n",
       "    <tr style=\"text-align: right;\">\n",
       "      <th></th>\n",
       "      <th>created_at</th>\n",
       "      <th>Amazon_comprehend</th>\n",
       "      <th>full_text</th>\n",
       "      <th>Custom_model</th>\n",
       "      <th>model_accuracy</th>\n",
       "      <th>Sentiment_label</th>\n",
       "    </tr>\n",
       "    <tr>\n",
       "      <th>id</th>\n",
       "      <th></th>\n",
       "      <th></th>\n",
       "      <th></th>\n",
       "      <th></th>\n",
       "      <th></th>\n",
       "      <th></th>\n",
       "    </tr>\n",
       "  </thead>\n",
       "  <tbody>\n",
       "    <tr>\n",
       "      <td>1</td>\n",
       "      <td>Wed Apr 08 04:22:36 +0000 2020</td>\n",
       "      <td>neutral</td>\n",
       "      <td>COVID-19: How it might change us in the future...</td>\n",
       "      <td>neutral</td>\n",
       "      <td>both</td>\n",
       "      <td>neutral</td>\n",
       "    </tr>\n",
       "    <tr>\n",
       "      <td>2</td>\n",
       "      <td>Wed Apr 08 04:22:36 +0000 2020</td>\n",
       "      <td>negative</td>\n",
       "      <td>As a GP, I fear our Covid-19 lockdown will res...</td>\n",
       "      <td>neutral</td>\n",
       "      <td>comprehend</td>\n",
       "      <td>negative</td>\n",
       "    </tr>\n",
       "    <tr>\n",
       "      <td>3</td>\n",
       "      <td>Wed Apr 08 04:22:36 +0000 2020</td>\n",
       "      <td>neutral</td>\n",
       "      <td>Coronavirus lockdown complicates Philippines's...</td>\n",
       "      <td>neutral</td>\n",
       "      <td>none</td>\n",
       "      <td>negative</td>\n",
       "    </tr>\n",
       "    <tr>\n",
       "      <td>4</td>\n",
       "      <td>Wed Apr 08 04:22:36 +0000 2020</td>\n",
       "      <td>negative</td>\n",
       "      <td>So in less then a week once COVID-19 deaths in...</td>\n",
       "      <td>neutral</td>\n",
       "      <td>comprehend</td>\n",
       "      <td>negative</td>\n",
       "    </tr>\n",
       "    <tr>\n",
       "      <td>5</td>\n",
       "      <td>Wed Apr 08 04:22:35 +0000 2020</td>\n",
       "      <td>neutral</td>\n",
       "      <td>Hmmm, something is off here... https://t.co/qH...</td>\n",
       "      <td>neutral</td>\n",
       "      <td>both</td>\n",
       "      <td>neutral</td>\n",
       "    </tr>\n",
       "    <tr>\n",
       "      <td>...</td>\n",
       "      <td>...</td>\n",
       "      <td>...</td>\n",
       "      <td>...</td>\n",
       "      <td>...</td>\n",
       "      <td>...</td>\n",
       "      <td>...</td>\n",
       "    </tr>\n",
       "    <tr>\n",
       "      <td>996</td>\n",
       "      <td>Sat Apr 11 04:19:42 +0000 2020</td>\n",
       "      <td>negative</td>\n",
       "      <td>Coronavirus becomes number one cause of death ...</td>\n",
       "      <td>neutral</td>\n",
       "      <td>both</td>\n",
       "      <td>negative</td>\n",
       "    </tr>\n",
       "    <tr>\n",
       "      <td>997</td>\n",
       "      <td>Sat Apr 11 04:19:42 +0000 2020</td>\n",
       "      <td>neutral</td>\n",
       "      <td>Trump Administration Knocked Back $100M Virus ...</td>\n",
       "      <td>neutral</td>\n",
       "      <td>both</td>\n",
       "      <td>neutral</td>\n",
       "    </tr>\n",
       "    <tr>\n",
       "      <td>998</td>\n",
       "      <td>Sat Apr 11 04:19:38 +0000 2020</td>\n",
       "      <td>neutral</td>\n",
       "      <td>Yesterday I saw a young man do pull ups on the...</td>\n",
       "      <td>neutral</td>\n",
       "      <td>both</td>\n",
       "      <td>neutral</td>\n",
       "    </tr>\n",
       "    <tr>\n",
       "      <td>999</td>\n",
       "      <td>Sat Apr 11 04:19:37 +0000 2020</td>\n",
       "      <td>neutral</td>\n",
       "      <td>In a rush to get back to work? #community #soc...</td>\n",
       "      <td>neutral</td>\n",
       "      <td>both</td>\n",
       "      <td>neutral</td>\n",
       "    </tr>\n",
       "    <tr>\n",
       "      <td>1000</td>\n",
       "      <td>Sat Apr 11 03:28:56 +0000 2020</td>\n",
       "      <td>positive</td>\n",
       "      <td>Dear @jidesanwoolu Thank you for your prompt a...</td>\n",
       "      <td>neutral</td>\n",
       "      <td>none</td>\n",
       "      <td>negative</td>\n",
       "    </tr>\n",
       "  </tbody>\n",
       "</table>\n",
       "<p>1000 rows × 6 columns</p>\n",
       "</div>"
      ],
      "text/plain": [
       "                        created_at   Amazon_comprehend  \\\n",
       "id                                                       \n",
       "1     Wed Apr 08 04:22:36 +0000 2020           neutral   \n",
       "2     Wed Apr 08 04:22:36 +0000 2020          negative   \n",
       "3     Wed Apr 08 04:22:36 +0000 2020           neutral   \n",
       "4     Wed Apr 08 04:22:36 +0000 2020          negative   \n",
       "5     Wed Apr 08 04:22:35 +0000 2020           neutral   \n",
       "...                              ...               ...   \n",
       "996   Sat Apr 11 04:19:42 +0000 2020          negative   \n",
       "997   Sat Apr 11 04:19:42 +0000 2020           neutral   \n",
       "998   Sat Apr 11 04:19:38 +0000 2020           neutral   \n",
       "999   Sat Apr 11 04:19:37 +0000 2020           neutral   \n",
       "1000  Sat Apr 11 03:28:56 +0000 2020          positive   \n",
       "\n",
       "                                              full_text Custom_model  \\\n",
       "id                                                                     \n",
       "1     COVID-19: How it might change us in the future...      neutral   \n",
       "2     As a GP, I fear our Covid-19 lockdown will res...      neutral   \n",
       "3     Coronavirus lockdown complicates Philippines's...      neutral   \n",
       "4     So in less then a week once COVID-19 deaths in...      neutral   \n",
       "5     Hmmm, something is off here... https://t.co/qH...      neutral   \n",
       "...                                                 ...          ...   \n",
       "996   Coronavirus becomes number one cause of death ...      neutral   \n",
       "997   Trump Administration Knocked Back $100M Virus ...      neutral   \n",
       "998   Yesterday I saw a young man do pull ups on the...      neutral   \n",
       "999   In a rush to get back to work? #community #soc...      neutral   \n",
       "1000  Dear @jidesanwoolu Thank you for your prompt a...      neutral   \n",
       "\n",
       "     model_accuracy Sentiment_label  \n",
       "id                                   \n",
       "1              both         neutral  \n",
       "2        comprehend        negative  \n",
       "3              none        negative  \n",
       "4        comprehend        negative  \n",
       "5              both         neutral  \n",
       "...             ...             ...  \n",
       "996            both        negative  \n",
       "997            both         neutral  \n",
       "998            both         neutral  \n",
       "999            both         neutral  \n",
       "1000           none        negative  \n",
       "\n",
       "[1000 rows x 6 columns]"
      ]
     },
     "execution_count": 32,
     "metadata": {},
     "output_type": "execute_result"
    }
   ],
   "source": [
    "# df3['Amazon_comprehend']=df3['Amazon_comprehend'].str.lower() \n",
    "# df3"
   ]
  },
  {
   "cell_type": "code",
   "execution_count": 29,
   "metadata": {},
   "outputs": [
    {
     "data": {
      "text/plain": [
       "id\n",
       "1        neutral\n",
       "2       negative\n",
       "3        neutral\n",
       "4       negative\n",
       "5        neutral\n",
       "          ...   \n",
       "996     negative\n",
       "997      neutral\n",
       "998      neutral\n",
       "999      neutral\n",
       "1000    positive\n",
       "Name: Amazon_comprehend, Length: 1000, dtype: object"
      ]
     },
     "execution_count": 29,
     "metadata": {},
     "output_type": "execute_result"
    }
   ],
   "source": [
    "# s.str.lower()"
   ]
  },
  {
   "cell_type": "code",
   "execution_count": 30,
   "metadata": {},
   "outputs": [
    {
     "data": {
      "text/plain": [
       "id\n",
       "1        NEUTRAL\n",
       "2       NEGATIVE\n",
       "3        NEUTRAL\n",
       "4       NEGATIVE\n",
       "5        NEUTRAL\n",
       "          ...   \n",
       "996     NEGATIVE\n",
       "997      NEUTRAL\n",
       "998      NEUTRAL\n",
       "999      NEUTRAL\n",
       "1000    POSITIVE\n",
       "Name: Amazon_comprehend, Length: 1000, dtype: object"
      ]
     },
     "execution_count": 30,
     "metadata": {},
     "output_type": "execute_result"
    }
   ],
   "source": [
    "# s"
   ]
  },
  {
   "cell_type": "code",
   "execution_count": null,
   "metadata": {},
   "outputs": [],
   "source": [
    "# df3.drop(\"created_at\", axis=1, inplace=True)"
   ]
  },
  {
   "cell_type": "code",
   "execution_count": 19,
   "metadata": {},
   "outputs": [],
   "source": [
    "# df3.to_csv('tweetx.csv', index='id')"
   ]
  },
  {
   "cell_type": "code",
   "execution_count": null,
   "metadata": {},
   "outputs": [],
   "source": [
    "# df4 = pd.read_csv('tweetx.csv')\n",
    "# df4.head()"
   ]
  },
  {
   "cell_type": "code",
   "execution_count": null,
   "metadata": {},
   "outputs": [],
   "source": [
    "# df4 = df4.astype(str)"
   ]
  },
  {
   "cell_type": "code",
   "execution_count": null,
   "metadata": {},
   "outputs": [],
   "source": [
    "# df4['Amazon_comprehend'].dtypes()"
   ]
  },
  {
   "cell_type": "code",
   "execution_count": null,
   "metadata": {},
   "outputs": [],
   "source": []
  }
 ],
 "metadata": {
  "kernelspec": {
   "display_name": "Python 3",
   "language": "python",
   "name": "python3"
  },
  "language_info": {
   "codemirror_mode": {
    "name": "ipython",
    "version": 3
   },
   "file_extension": ".py",
   "mimetype": "text/x-python",
   "name": "python",
   "nbconvert_exporter": "python",
   "pygments_lexer": "ipython3",
   "version": "3.7.6"
  }
 },
 "nbformat": 4,
 "nbformat_minor": 2
}
